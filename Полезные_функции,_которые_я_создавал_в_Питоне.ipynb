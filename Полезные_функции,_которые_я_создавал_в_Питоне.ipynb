{
  "nbformat": 4,
  "nbformat_minor": 0,
  "metadata": {
    "colab": {
      "provenance": [],
      "authorship_tag": "ABX9TyN+YqQoQ45ObWxXYLGLl0xk",
      "include_colab_link": true
    },
    "kernelspec": {
      "name": "python3",
      "display_name": "Python 3"
    },
    "language_info": {
      "name": "python"
    }
  },
  "cells": [
    {
      "cell_type": "markdown",
      "metadata": {
        "id": "view-in-github",
        "colab_type": "text"
      },
      "source": [
        "<a href=\"https://colab.research.google.com/github/webvic/Ingate_SEO_n/blob/main/%D0%9F%D0%BE%D0%BB%D0%B5%D0%B7%D0%BD%D1%8B%D0%B5_%D1%84%D1%83%D0%BD%D0%BA%D1%86%D0%B8%D0%B8%2C_%D0%BA%D0%BE%D1%82%D0%BE%D1%80%D1%8B%D0%B5_%D1%8F_%D1%81%D0%BE%D0%B7%D0%B4%D0%B0%D0%B2%D0%B0%D0%BB_%D0%B2_%D0%9F%D0%B8%D1%82%D0%BE%D0%BD%D0%B5.ipynb\" target=\"_parent\"><img src=\"https://colab.research.google.com/assets/colab-badge.svg\" alt=\"Open In Colab\"/></a>"
      ]
    },
    {
      "cell_type": "code",
      "execution_count": null,
      "metadata": {
        "id": "2lqEt7upWsuq"
      },
      "outputs": [],
      "source": []
    },
    {
      "cell_type": "code",
      "source": [
        "# Функция возвращает имя переменной в виде строки\n",
        "def get_variable_name(var):\n",
        "  # Получение имени переменной в виде строки\n",
        "  variable_name = [name for name, value in globals().items() if value is var][0]\n",
        "  return variable_name\n",
        "\n",
        "get_variable_name(instructor)"
      ],
      "metadata": {
        "colab": {
          "base_uri": "https://localhost:8080/",
          "height": 36
        },
        "id": "CEH6BwCTIzCp",
        "outputId": "768f40c6-639f-4268-fd5d-1370137bff29"
      },
      "execution_count": null,
      "outputs": [
        {
          "output_type": "execute_result",
          "data": {
            "text/plain": [
              "'instructor'"
            ],
            "application/vnd.google.colaboratory.intrinsic+json": {
              "type": "string"
            }
          },
          "metadata": {},
          "execution_count": 5
        }
      ]
    },
    {
      "cell_type": "code",
      "source": [
        "import re\n",
        "\n",
        "# Функция для извлечения кода файла Гугл драйв из ссылки в текущую папку\n",
        "def get_file_code(url):\n",
        "    pattern=r\"/file/d/(.*?)/\"\n",
        "    return(re.search(pattern, url).group(1))\n",
        "\n",
        "url= \"https://drive.google.com/file/d/1nXFs_VrfFn8z9A4JVWn_cZOJ66Ct0S7x\"\n",
        "file_code=get_file_code(\"https://drive.google.com/file/d/1nXFs_VrfFn8z9A4JVWn_cZOJ66Ct0S7x/view?usp=drive_link\")\n",
        "\n",
        "!gdown $file_code\n",
        "\n"
      ],
      "metadata": {
        "id": "1D5ukRIuw1Jk"
      },
      "execution_count": null,
      "outputs": []
    }
  ]
}